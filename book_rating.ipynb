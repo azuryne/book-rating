{
 "cells": [
  {
   "cell_type": "code",
   "execution_count": 1,
   "metadata": {},
   "outputs": [
    {
     "name": "stdout",
     "output_type": "stream",
     "text": [
      "The Midnight Library\n"
     ]
    }
   ],
   "source": [
    "import pandas as pd\n",
    "import numpy as np\n",
    "\n",
    "book = {}\n",
    "book_title = input(\"Book Title: \")#.strip().split(',')\n",
    "print(book_title)\n"
   ]
  },
  {
   "cell_type": "code",
   "execution_count": 2,
   "metadata": {},
   "outputs": [
    {
     "name": "stdout",
     "output_type": "stream",
     "text": [
      "float64\n",
      "4.4\n"
     ]
    }
   ],
   "source": [
    "# plot = []\n",
    "plot = np.float64(input(\"Score /5: \"))\n",
    "print(plot.dtype)\n",
    "if plot >= 6:\n",
    "    print(\"invalid input\")\n",
    "else:\n",
    "    # plot.append(plot1)\n",
    "    print(plot)"
   ]
  },
  {
   "cell_type": "code",
   "execution_count": 3,
   "metadata": {},
   "outputs": [
    {
     "name": "stdout",
     "output_type": "stream",
     "text": [
      "5.0\n"
     ]
    }
   ],
   "source": [
    "# character_growth = []\n",
    "character_growth = np.float64(input(\"Score /5: \"))\n",
    "if character_growth >= 6:\n",
    "    print(\"invalid input\")\n",
    "else:\n",
    "    # character_growth.append(character_growth1)\n",
    "    print(character_growth)\n"
   ]
  },
  {
   "cell_type": "code",
   "execution_count": 5,
   "metadata": {},
   "outputs": [
    {
     "name": "stdout",
     "output_type": "stream",
     "text": [
      "4.0\n"
     ]
    }
   ],
   "source": [
    "# style = []\n",
    "style = np.float64(input(\"Score /5: \"))\n",
    "if style >= 6:\n",
    "    print(\"invalid input\")\n",
    "else:\n",
    "    # style.append(style1)\n",
    "    print(style)"
   ]
  },
  {
   "cell_type": "code",
   "execution_count": 6,
   "metadata": {},
   "outputs": [
    {
     "name": "stdout",
     "output_type": "stream",
     "text": [
      "{'Book Title': ['The Midnight Library'], 'Plot Score': [4.4], 'Character Growth Score:': [5.0], 'Writing Style Score': [4.0]}\n"
     ]
    }
   ],
   "source": [
    "book = {'Book Title': [book_title], \n",
    "        'Plot Score' : [plot],\n",
    "        'Character Growth Score:': [character_growth],\n",
    "        'Writing Style Score': [style]}\n",
    "\n",
    "print(book)"
   ]
  },
  {
   "cell_type": "code",
   "execution_count": 7,
   "metadata": {},
   "outputs": [
    {
     "name": "stdout",
     "output_type": "stream",
     "text": [
      "4.47\n",
      "float64\n"
     ]
    }
   ],
   "source": [
    "full_rating = np.float32(plot + character_growth + style) / 15 * 5\n",
    "full_rating = round(full_rating,2)\n",
    "print(full_rating)\n",
    "print(full_rating.dtype)"
   ]
  },
  {
   "cell_type": "code",
   "execution_count": 8,
   "metadata": {},
   "outputs": [],
   "source": [
    "rating = {}\n",
    "rating['Final Rating'] = [full_rating]"
   ]
  },
  {
   "cell_type": "code",
   "execution_count": 9,
   "metadata": {},
   "outputs": [
    {
     "name": "stdout",
     "output_type": "stream",
     "text": [
      "{'Final Rating': [4.47]}\n"
     ]
    }
   ],
   "source": [
    "print(rating)"
   ]
  },
  {
   "cell_type": "code",
   "execution_count": 10,
   "metadata": {},
   "outputs": [],
   "source": [
    "def merge(dict1, dict2):\n",
    "    book_read = dict1 | dict2\n",
    "    return book_read"
   ]
  },
  {
   "cell_type": "code",
   "execution_count": 11,
   "metadata": {},
   "outputs": [
    {
     "name": "stdout",
     "output_type": "stream",
     "text": [
      "{'Book Title': ['The Midnight Library'], 'Plot Score': [4.4], 'Character Growth Score:': [5.0], 'Writing Style Score': [4.0], 'Final Rating': [4.47]}\n"
     ]
    }
   ],
   "source": [
    "book_df = merge(book, rating)\n",
    "print(book_df)"
   ]
  },
  {
   "cell_type": "code",
   "execution_count": 12,
   "metadata": {},
   "outputs": [
    {
     "name": "stdout",
     "output_type": "stream",
     "text": [
      "             Book Title Plot Character Growth Writing Style  Final Rating\n",
      "0  The Midnight Library  NaN              NaN           NaN          4.47\n"
     ]
    }
   ],
   "source": [
    "# Convert to csv\n",
    "df = pd.DataFrame(book_df, columns=['Book Title', \n",
    "                                    'Plot',\n",
    "                                    'Character Growth', \n",
    "                                    'Writing Style',\n",
    "                                    'Final Rating'], )\n",
    "\n",
    "\n",
    "print(df)"
   ]
  },
  {
   "cell_type": "code",
   "execution_count": null,
   "metadata": {},
   "outputs": [],
   "source": []
  }
 ],
 "metadata": {
  "interpreter": {
   "hash": "aee8b7b246df8f9039afb4144a1f6fd8d2ca17a180786b69acc140d282b71a49"
  },
  "kernelspec": {
   "display_name": "Python 3.9.7 64-bit",
   "name": "python3"
  },
  "language_info": {
   "codemirror_mode": {
    "name": "ipython",
    "version": 3
   },
   "file_extension": ".py",
   "mimetype": "text/x-python",
   "name": "python",
   "nbconvert_exporter": "python",
   "pygments_lexer": "ipython3",
   "version": "3.9.7"
  },
  "orig_nbformat": 4
 },
 "nbformat": 4,
 "nbformat_minor": 2
}
